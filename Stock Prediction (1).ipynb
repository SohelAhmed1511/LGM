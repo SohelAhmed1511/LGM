{
 "cells": [
  {
   "cell_type": "markdown",
   "id": "47ccdba5",
   "metadata": {},
   "source": [
    "# Stock Market Prediction"
   ]
  },
  {
   "cell_type": "code",
   "execution_count": 1,
   "id": "8eb4036b",
   "metadata": {},
   "outputs": [],
   "source": [
    "import pandas as pd\n",
    "import numpy as np"
   ]
  },
  {
   "cell_type": "code",
   "execution_count": 2,
   "id": "cf613bc6",
   "metadata": {},
   "outputs": [
    {
     "data": {
      "text/html": [
       "<div>\n",
       "<style scoped>\n",
       "    .dataframe tbody tr th:only-of-type {\n",
       "        vertical-align: middle;\n",
       "    }\n",
       "\n",
       "    .dataframe tbody tr th {\n",
       "        vertical-align: top;\n",
       "    }\n",
       "\n",
       "    .dataframe thead th {\n",
       "        text-align: right;\n",
       "    }\n",
       "</style>\n",
       "<table border=\"1\" class=\"dataframe\">\n",
       "  <thead>\n",
       "    <tr style=\"text-align: right;\">\n",
       "      <th></th>\n",
       "      <th>Date</th>\n",
       "      <th>Open</th>\n",
       "      <th>High</th>\n",
       "      <th>Low</th>\n",
       "      <th>Last</th>\n",
       "      <th>Close</th>\n",
       "      <th>Total Trade Quantity</th>\n",
       "      <th>Turnover (Lacs)</th>\n",
       "    </tr>\n",
       "  </thead>\n",
       "  <tbody>\n",
       "    <tr>\n",
       "      <th>0</th>\n",
       "      <td>2018-09-28</td>\n",
       "      <td>234.05</td>\n",
       "      <td>235.95</td>\n",
       "      <td>230.20</td>\n",
       "      <td>233.50</td>\n",
       "      <td>233.75</td>\n",
       "      <td>3069914</td>\n",
       "      <td>7162.35</td>\n",
       "    </tr>\n",
       "    <tr>\n",
       "      <th>1</th>\n",
       "      <td>2018-09-27</td>\n",
       "      <td>234.55</td>\n",
       "      <td>236.80</td>\n",
       "      <td>231.10</td>\n",
       "      <td>233.80</td>\n",
       "      <td>233.25</td>\n",
       "      <td>5082859</td>\n",
       "      <td>11859.95</td>\n",
       "    </tr>\n",
       "    <tr>\n",
       "      <th>2</th>\n",
       "      <td>2018-09-26</td>\n",
       "      <td>240.00</td>\n",
       "      <td>240.00</td>\n",
       "      <td>232.50</td>\n",
       "      <td>235.00</td>\n",
       "      <td>234.25</td>\n",
       "      <td>2240909</td>\n",
       "      <td>5248.60</td>\n",
       "    </tr>\n",
       "    <tr>\n",
       "      <th>3</th>\n",
       "      <td>2018-09-25</td>\n",
       "      <td>233.30</td>\n",
       "      <td>236.75</td>\n",
       "      <td>232.00</td>\n",
       "      <td>236.25</td>\n",
       "      <td>236.10</td>\n",
       "      <td>2349368</td>\n",
       "      <td>5503.90</td>\n",
       "    </tr>\n",
       "    <tr>\n",
       "      <th>4</th>\n",
       "      <td>2018-09-24</td>\n",
       "      <td>233.55</td>\n",
       "      <td>239.20</td>\n",
       "      <td>230.75</td>\n",
       "      <td>234.00</td>\n",
       "      <td>233.30</td>\n",
       "      <td>3423509</td>\n",
       "      <td>7999.55</td>\n",
       "    </tr>\n",
       "  </tbody>\n",
       "</table>\n",
       "</div>"
      ],
      "text/plain": [
       "         Date    Open    High     Low    Last   Close  Total Trade Quantity  \\\n",
       "0  2018-09-28  234.05  235.95  230.20  233.50  233.75               3069914   \n",
       "1  2018-09-27  234.55  236.80  231.10  233.80  233.25               5082859   \n",
       "2  2018-09-26  240.00  240.00  232.50  235.00  234.25               2240909   \n",
       "3  2018-09-25  233.30  236.75  232.00  236.25  236.10               2349368   \n",
       "4  2018-09-24  233.55  239.20  230.75  234.00  233.30               3423509   \n",
       "\n",
       "   Turnover (Lacs)  \n",
       "0          7162.35  \n",
       "1         11859.95  \n",
       "2          5248.60  \n",
       "3          5503.90  \n",
       "4          7999.55  "
      ]
     },
     "execution_count": 2,
     "metadata": {},
     "output_type": "execute_result"
    }
   ],
   "source": [
    "df=pd.read_csv('stock.csv')\n",
    "df.head()"
   ]
  },
  {
   "cell_type": "code",
   "execution_count": 3,
   "id": "b96c3b82",
   "metadata": {},
   "outputs": [
    {
     "data": {
      "text/plain": [
       "(2035, 8)"
      ]
     },
     "execution_count": 3,
     "metadata": {},
     "output_type": "execute_result"
    }
   ],
   "source": [
    "df.shape"
   ]
  },
  {
   "cell_type": "code",
   "execution_count": 4,
   "id": "f7fac1a3",
   "metadata": {},
   "outputs": [],
   "source": [
    "df1=df.reset_index()['Low']"
   ]
  },
  {
   "cell_type": "code",
   "execution_count": 5,
   "id": "11fb57fb",
   "metadata": {},
   "outputs": [
    {
     "data": {
      "text/plain": [
       "0    230.20\n",
       "1    231.10\n",
       "2    232.50\n",
       "3    232.00\n",
       "4    230.75\n",
       "Name: Low, dtype: float64"
      ]
     },
     "execution_count": 5,
     "metadata": {},
     "output_type": "execute_result"
    }
   ],
   "source": [
    "df1.head()"
   ]
  },
  {
   "cell_type": "code",
   "execution_count": 6,
   "id": "355438b2",
   "metadata": {},
   "outputs": [
    {
     "data": {
      "text/plain": [
       "(2035,)"
      ]
     },
     "execution_count": 6,
     "metadata": {},
     "output_type": "execute_result"
    }
   ],
   "source": [
    "df1.shape"
   ]
  },
  {
   "cell_type": "code",
   "execution_count": 7,
   "id": "31cc40cb",
   "metadata": {},
   "outputs": [
    {
     "data": {
      "text/plain": [
       "[<matplotlib.lines.Line2D at 0x2a9f8a464f0>]"
      ]
     },
     "execution_count": 7,
     "metadata": {},
     "output_type": "execute_result"
    },
    {
     "data": {
      "image/png": "[encoded data removed]",
      "text/plain": [
       "<Figure size 432x288 with 1 Axes>"
      ]
     },
     "metadata": {
      "needs_background": "light"
     },
     "output_type": "display_data"
    }
   ],
   "source": [
    "from matplotlib import pyplot as plt\n",
    "plt.plot(df1)"
   ]
  },
  {
   "cell_type": "code",
   "execution_count": 8,
   "id": "06eb69bf",
   "metadata": {},
   "outputs": [],
   "source": [
    "from sklearn.preprocessing import MinMaxScaler\n",
    "scaler=MinMaxScaler(feature_range=(0,1))\n",
    "df1=scaler.fit_transform(np.array(df1).reshape(-1,1))"
   ]
  },
  {
   "cell_type": "code",
   "execution_count": 9,
   "id": "0275db0d",
   "metadata": {},
   "outputs": [
    {
     "data": {
      "text/plain": [
       "array([[0.62156011],\n",
       "       [0.6252845 ],\n",
       "       [0.63107801],\n",
       "       ...,\n",
       "       [0.16656321],\n",
       "       [0.16656321],\n",
       "       [0.16987378]])"
      ]
     },
     "execution_count": 9,
     "metadata": {},
     "output_type": "execute_result"
    }
   ],
   "source": [
    "df1"
   ]
  },
  {
   "cell_type": "code",
   "execution_count": 10,
   "id": "6432b07a",
   "metadata": {},
   "outputs": [],
   "source": [
    "#In case of timeseries data the next data is always dependent on previous data so we cannot split randomly.\n",
    "train_size=int(len(df1)*0.65)\n",
    "test_size=len(df1)-train_size\n",
    "train,test=df1[0:train_size,:],df1[train_size:len(df1),:1]"
   ]
  },
  {
   "cell_type": "code",
   "execution_count": 11,
   "id": "72d3fb84",
   "metadata": {},
   "outputs": [
    {
     "data": {
      "text/plain": [
       "1322"
      ]
     },
     "execution_count": 11,
     "metadata": {},
     "output_type": "execute_result"
    }
   ],
   "source": [
    "len(train)"
   ]
  },
  {
   "cell_type": "code",
   "execution_count": 12,
   "id": "8bc74d5d",
   "metadata": {},
   "outputs": [
    {
     "data": {
      "text/plain": [
       "713"
      ]
     },
     "execution_count": 12,
     "metadata": {},
     "output_type": "execute_result"
    }
   ],
   "source": [
    "len(test)"
   ]
  },
  {
   "cell_type": "code",
   "execution_count": 13,
   "id": "3b499f93",
   "metadata": {},
   "outputs": [],
   "source": [
    "def create(data,time=1):\n",
    "    dataX,dataY=[],[]\n",
    "    for i in range(len(data)-time-1):\n",
    "        a=data[i:(i+time),0]\n",
    "        dataX.append(a)\n",
    "        dataY.append(data[i + time,0])\n",
    "    return np.array(dataX),np.array(dataY)"
   ]
  },
  {
   "cell_type": "code",
   "execution_count": 14,
   "id": "72c591a0",
   "metadata": {},
   "outputs": [],
   "source": [
    "time=100\n",
    "X_train,y_train=create(train,time)\n",
    "X_test,y_test=create(test,time)"
   ]
  },
  {
   "cell_type": "code",
   "execution_count": 15,
   "id": "1da7456e",
   "metadata": {},
   "outputs": [
    {
     "data": {
      "text/plain": [
       "(1221, 100)"
      ]
     },
     "execution_count": 15,
     "metadata": {},
     "output_type": "execute_result"
    }
   ],
   "source": [
    "X_train.shape"
   ]
  },
  {
   "cell_type": "code",
   "execution_count": 16,
   "id": "6b311e36",
   "metadata": {},
   "outputs": [
    {
     "data": {
      "text/plain": [
       "(1221,)"
      ]
     },
     "execution_count": 16,
     "metadata": {},
     "output_type": "execute_result"
    }
   ],
   "source": [
    "y_train.shape"
   ]
  },
  {
   "cell_type": "code",
   "execution_count": 17,
   "id": "cb12beb0",
   "metadata": {},
   "outputs": [],
   "source": [
    "X_train=X_train.reshape(X_train.shape[0],X_train.shape[1],1)\n",
    "X_test=X_test.reshape(X_test.shape[0],X_test.shape[1],1)"
   ]
  },
  {
   "cell_type": "code",
   "execution_count": 18,
   "id": "727d335a",
   "metadata": {},
   "outputs": [],
   "source": [
    "from tensorflow.keras.models import Sequential\n",
    "from tensorflow.keras.layers import Dense \n",
    "from tensorflow.keras.layers import LSTM "
   ]
  },
  {
   "cell_type": "code",
   "execution_count": 19,
   "id": "2d3c5aff",
   "metadata": {},
   "outputs": [],
   "source": [
    "model=Sequential()\n",
    "model.add(LSTM(50,return_sequences=True,input_shape=(100,1)))\n",
    "model.add(LSTM(50,return_sequences=True))\n",
    "model.add(LSTM(50))\n",
    "model.add(Dense(1))\n",
    "model.compile(loss='mean_squared_error',optimizer='adam')"
   ]
  },
  {
   "cell_type": "code",
   "execution_count": 20,
   "id": "a1ccc342",
   "metadata": {},
   "outputs": [
    {
     "name": "stdout",
     "output_type": "stream",
     "text": [
      "Model: \"sequential\"\n",
      "_________________________________________________________________\n",
      " Layer (type)                Output Shape              Param #   \n",
      "=================================================================\n",
      " lstm (LSTM)                 (None, 100, 50)           10400     \n",
      "                                                                 \n",
      " lstm_1 (LSTM)               (None, 100, 50)           20200     \n",
      "                                                                 \n",
      " lstm_2 (LSTM)               (None, 50)                20200     \n",
      "                                                                 \n",
      " dense (Dense)               (None, 1)                 51        \n",
      "                                                                 \n",
      "=================================================================\n",
      "Total params: 50,851\n",
      "Trainable params: 50,851\n",
      "Non-trainable params: 0\n",
      "_________________________________________________________________\n"
     ]
    }
   ],
   "source": [
    "model.summary()"
   ]
  },
  {
   "cell_type": "code",
   "execution_count": 21,
   "id": "b1806300",
   "metadata": {},
   "outputs": [
    {
     "name": "stdout",
     "output_type": "stream",
     "text": [
      "Epoch 1/50\n",
      "20/20 [==============================] - 22s 555ms/step - loss: 0.0216 - val_loss: 0.0060\n",
      "Epoch 2/50\n",
      "20/20 [==============================] - 8s 424ms/step - loss: 0.0031 - val_loss: 0.0015\n",
      "Epoch 3/50\n",
      "20/20 [==============================] - 8s 423ms/step - loss: 0.0019 - val_loss: 9.3640e-04\n",
      "Epoch 4/50\n",
      "20/20 [==============================] - 8s 418ms/step - loss: 0.0019 - val_loss: 0.0013\n",
      "Epoch 5/50\n",
      "20/20 [==============================] - 8s 426ms/step - loss: 0.0017 - val_loss: 8.5679e-04\n",
      "Epoch 6/50\n",
      "20/20 [==============================] - 9s 432ms/step - loss: 0.0016 - val_loss: 0.0018\n",
      "Epoch 7/50\n",
      "20/20 [==============================] - 8s 418ms/step - loss: 0.0016 - val_loss: 0.0010\n",
      "Epoch 8/50\n",
      "20/20 [==============================] - 8s 409ms/step - loss: 0.0015 - val_loss: 0.0011\n",
      "Epoch 9/50\n",
      "20/20 [==============================] - 8s 422ms/step - loss: 0.0014 - val_loss: 8.6858e-04\n",
      "Epoch 10/50\n",
      "20/20 [==============================] - 8s 422ms/step - loss: 0.0015 - val_loss: 8.4052e-04\n",
      "Epoch 11/50\n",
      "20/20 [==============================] - 9s 459ms/step - loss: 0.0014 - val_loss: 9.3345e-04\n",
      "Epoch 12/50\n",
      "20/20 [==============================] - 9s 471ms/step - loss: 0.0013 - val_loss: 0.0013\n",
      "Epoch 13/50\n",
      "20/20 [==============================] - 9s 437ms/step - loss: 0.0012 - val_loss: 9.1189e-04\n",
      "Epoch 14/50\n",
      "20/20 [==============================] - 9s 444ms/step - loss: 0.0011 - val_loss: 8.9809e-04\n",
      "Epoch 15/50\n",
      "20/20 [==============================] - 8s 425ms/step - loss: 0.0011 - val_loss: 7.0598e-04\n",
      "Epoch 16/50\n",
      "20/20 [==============================] - 8s 419ms/step - loss: 0.0011 - val_loss: 8.5936e-04\n",
      "Epoch 17/50\n",
      "20/20 [==============================] - 8s 423ms/step - loss: 0.0011 - val_loss: 8.8201e-04\n",
      "Epoch 18/50\n",
      "20/20 [==============================] - 8s 423ms/step - loss: 9.8571e-04 - val_loss: 7.0221e-04\n",
      "Epoch 19/50\n",
      "20/20 [==============================] - 8s 412ms/step - loss: 0.0011 - val_loss: 7.7215e-04\n",
      "Epoch 20/50\n",
      "20/20 [==============================] - 8s 403ms/step - loss: 0.0011 - val_loss: 0.0014\n",
      "Epoch 21/50\n",
      "20/20 [==============================] - 8s 406ms/step - loss: 0.0013 - val_loss: 0.0011\n",
      "Epoch 22/50\n",
      "20/20 [==============================] - 8s 403ms/step - loss: 0.0014 - val_loss: 0.0011\n",
      "Epoch 23/50\n",
      "20/20 [==============================] - 8s 414ms/step - loss: 9.7619e-04 - val_loss: 9.7372e-04\n",
      "Epoch 24/50\n",
      "20/20 [==============================] - 8s 406ms/step - loss: 9.7092e-04 - val_loss: 0.0010\n",
      "Epoch 25/50\n",
      "20/20 [==============================] - 8s 409ms/step - loss: 8.6578e-04 - val_loss: 7.3064e-04\n",
      "Epoch 26/50\n",
      "20/20 [==============================] - 8s 419ms/step - loss: 8.5540e-04 - val_loss: 6.6434e-04\n",
      "Epoch 27/50\n",
      "20/20 [==============================] - 8s 408ms/step - loss: 8.1584e-04 - val_loss: 7.1168e-04\n",
      "Epoch 28/50\n",
      "20/20 [==============================] - 8s 403ms/step - loss: 7.8259e-04 - val_loss: 6.2872e-04\n",
      "Epoch 29/50\n",
      "20/20 [==============================] - 9s 435ms/step - loss: 7.5531e-04 - val_loss: 0.0012\n",
      "Epoch 30/50\n",
      "20/20 [==============================] - 9s 446ms/step - loss: 9.5849e-04 - val_loss: 9.8015e-04\n",
      "Epoch 31/50\n",
      "20/20 [==============================] - 9s 436ms/step - loss: 7.7185e-04 - val_loss: 0.0011\n",
      "Epoch 32/50\n",
      "20/20 [==============================] - 8s 421ms/step - loss: 7.7446e-04 - val_loss: 6.9222e-04\n",
      "Epoch 33/50\n",
      "20/20 [==============================] - 9s 429ms/step - loss: 7.4276e-04 - val_loss: 7.2304e-04\n",
      "Epoch 34/50\n",
      "20/20 [==============================] - 9s 431ms/step - loss: 7.2915e-04 - val_loss: 6.8991e-04\n",
      "Epoch 35/50\n",
      "20/20 [==============================] - 8s 402ms/step - loss: 6.9280e-04 - val_loss: 8.7922e-04\n",
      "Epoch 36/50\n",
      "20/20 [==============================] - 8s 410ms/step - loss: 7.4083e-04 - val_loss: 6.0395e-04\n",
      "Epoch 37/50\n",
      "20/20 [==============================] - 8s 404ms/step - loss: 7.4056e-04 - val_loss: 5.2478e-04\n",
      "Epoch 38/50\n",
      "20/20 [==============================] - 8s 425ms/step - loss: 6.7740e-04 - val_loss: 5.3872e-04\n",
      "Epoch 39/50\n",
      "20/20 [==============================] - 8s 407ms/step - loss: 7.6346e-04 - val_loss: 5.8959e-04\n",
      "Epoch 40/50\n",
      "20/20 [==============================] - 8s 415ms/step - loss: 6.9312e-04 - val_loss: 6.0217e-04\n",
      "Epoch 41/50\n",
      "20/20 [==============================] - 8s 406ms/step - loss: 6.4685e-04 - val_loss: 5.5850e-04\n",
      "Epoch 42/50\n",
      "20/20 [==============================] - 8s 424ms/step - loss: 6.2514e-04 - val_loss: 5.4568e-04\n",
      "Epoch 43/50\n",
      "20/20 [==============================] - 8s 409ms/step - loss: 7.2021e-04 - val_loss: 8.5454e-04\n",
      "Epoch 44/50\n",
      "20/20 [==============================] - 8s 406ms/step - loss: 7.1750e-04 - val_loss: 5.0586e-04\n",
      "Epoch 45/50\n",
      "20/20 [==============================] - 8s 404ms/step - loss: 6.9789e-04 - val_loss: 4.6597e-04\n",
      "Epoch 46/50\n",
      "20/20 [==============================] - 8s 404ms/step - loss: 7.2846e-04 - val_loss: 4.8515e-04\n",
      "Epoch 47/50\n",
      "20/20 [==============================] - 8s 424ms/step - loss: 6.0938e-04 - val_loss: 5.3142e-04\n",
      "Epoch 48/50\n",
      "20/20 [==============================] - 9s 477ms/step - loss: 6.2226e-04 - val_loss: 4.8176e-04\n",
      "Epoch 49/50\n",
      "20/20 [==============================] - 9s 469ms/step - loss: 6.2742e-04 - val_loss: 7.6157e-04\n",
      "Epoch 50/50\n",
      "20/20 [==============================] - 9s 471ms/step - loss: 0.0013 - val_loss: 0.0010\n"
     ]
    },
    {
     "data": {
      "text/plain": [
       "<keras.callbacks.History at 0x2a99308a9d0>"
      ]
     },
     "execution_count": 21,
     "metadata": {},
     "output_type": "execute_result"
    }
   ],
   "source": [
    "model.fit(X_train,y_train,validation_data=(X_test,y_test),epochs=50,batch_size=64,verbose=1)"
   ]
  },
  {
   "cell_type": "code",
   "execution_count": 22,
   "id": "8c740aa6",
   "metadata": {},
   "outputs": [
    {
     "name": "stdout",
     "output_type": "stream",
     "text": [
      "39/39 [==============================] - 7s 83ms/step\n",
      "20/20 [==============================] - 2s 107ms/step\n"
     ]
    }
   ],
   "source": [
    "train_p=model.predict(X_train)\n",
    "test_p=model.predict(X_test)"
   ]
  },
  {
   "cell_type": "code",
   "execution_count": 23,
   "id": "9a40e3d9",
   "metadata": {},
   "outputs": [],
   "source": [
    "train_p=scaler.inverse_transform(train_p)\n",
    "test_p=scaler.inverse_transform(test_p)"
   ]
  },
  {
   "cell_type": "code",
   "execution_count": 24,
   "id": "7db849e0",
   "metadata": {},
   "outputs": [
    {
     "data": {
      "text/plain": [
       "118.8721652494769"
      ]
     },
     "execution_count": 24,
     "metadata": {},
     "output_type": "execute_result"
    }
   ],
   "source": [
    "import math\n",
    "from sklearn.metrics import mean_squared_error\n",
    "math.sqrt(mean_squared_error(y_test,test_p))"
   ]
  },
  {
   "cell_type": "code",
   "execution_count": 25,
   "id": "e6712f3d",
   "metadata": {},
   "outputs": [
    {
     "data": {
      "image/png": "[encoded data removed]",
      "text/plain": [
       "<Figure size 432x288 with 1 Axes>"
      ]
     },
     "metadata": {
      "needs_background": "light"
     },
     "output_type": "display_data"
    }
   ],
   "source": [
    "look_back=100\n",
    "trainPredictPlot = np.empty_like(df1)\n",
    "trainPredictPlot[:, :] = np.nan\n",
    "trainPredictPlot[look_back:len(train_p)+look_back, :] = train_p\n",
    "testPredictPlot = np.empty_like(df1)\n",
    "testPredictPlot[:, :] = np.nan\n",
    "testPredictPlot[len(train_p)+(look_back*2)+1:len(df1)-1, :] = test_p\n",
    "plt.plot(scaler.inverse_transform(df1))\n",
    "plt.plot(trainPredictPlot)\n",
    "plt.plot(testPredictPlot)\n",
    "plt.show()"
   ]
  },
  {
   "cell_type": "markdown",
   "id": "2973c0d3",
   "metadata": {},
   "source": [
    "In this graph the blue line is actual data,the orange is training data prediction and green is testing data prediction."
   ]
  }
 ],
 "metadata": {
  "kernelspec": {
   "display_name": "Python 3 (ipykernel)",
   "language": "python",
   "name": "python3"
  },
  "language_info": {
   "codemirror_mode": {
    "name": "ipython",
    "version": 3
   },
   "file_extension": ".py",
   "mimetype": "text/x-python",
   "name": "python",
   "nbconvert_exporter": "python",
   "pygments_lexer": "ipython3",
   "version": "3.9.6"
  }
 },
 "nbformat": 4,
 "nbformat_minor": 5
}
